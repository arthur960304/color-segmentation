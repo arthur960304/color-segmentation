{
 "cells": [
  {
   "cell_type": "code",
   "execution_count": 22,
   "metadata": {},
   "outputs": [],
   "source": [
    "import os, cv2\n",
    "import numpy as np\n",
    "from skimage.measure import label, regionprops"
   ]
  },
  {
   "cell_type": "markdown",
   "metadata": {},
   "source": [
    "# Create Logistic Regression Model"
   ]
  },
  {
   "cell_type": "code",
   "execution_count": 2,
   "metadata": {},
   "outputs": [],
   "source": [
    "class LogisticRegression(object):\n",
    "    def __init__(self, n_features, n_class):\n",
    "        # weight initialization\n",
    "        self.w = np.zeros((n_class, n_features))\n",
    "        self.b = np.zeros((n_class, 1))\n",
    "        \n",
    "    def softmax(self, x):\n",
    "        x = np.exp(x)\n",
    "        total = np.sum(x, axis=0)\n",
    "        return x / total\n",
    "        \n",
    "    def train(self, ):\n",
    "        \n",
    "    \n",
    "    def optimize(self, ):\n",
    "        \n",
    "        \n",
    "    def predict(self, x):"
   ]
  },
  {
   "cell_type": "markdown",
   "metadata": {},
   "source": [
    "# Read Data"
   ]
  },
  {
   "cell_type": "code",
   "execution_count": 35,
   "metadata": {},
   "outputs": [],
   "source": [
    "train_folder = \"trainset\"\n",
    "\n",
    "# dictionary for the pixel rgb data\n",
    "data_dict = {\n",
    "    'COLOR_STOP_SIGN_RED': np.empty(shape=[0, 3]),\n",
    "    'COLOR_OTHER_RED'    : np.empty(shape=[0, 3]),\n",
    "    'COLOR_BROWN'        : np.empty(shape=[0, 3]),\n",
    "    'COLOR_ORANGE'       : np.empty(shape=[0, 3]),\n",
    "    'COLOR_BLUE'         : np.empty(shape=[0, 3]),\n",
    "    'COLOR_OTHER'        : np.empty(shape=[0, 3])\n",
    "}\n",
    "\n",
    "label_dict = {\n",
    "    'COLOR_STOP_SIGN_RED': np.empty(shape=[0, 6]),    # [1,0,0,0,0,0]\n",
    "    'COLOR_OTHER_RED'    : np.empty(shape=[0, 6]),    # [0,1,0,0,0,0]\n",
    "    'COLOR_BROWN'        : np.empty(shape=[0, 6]),    # [0,0,1,0,0,0]\n",
    "    'COLOR_ORANGE'       : np.empty(shape=[0, 6]),    # [0,0,0,1,0,0]\n",
    "    'COLOR_BLUE'         : np.empty(shape=[0, 6]),    # [0,0,0,0,1,0]\n",
    "    'COLOR_OTHER'        : np.empty(shape=[0, 6])     # [0,0,0,0,0,1]\n",
    "}\n",
    "\n",
    "def read_data(class_name):\n",
    "    \"\"\"Calculate mean and covariance of different color classes\n",
    "    \n",
    "    Args:\n",
    "        class_name(string): COLOR_STOP_SIGN_RED, COLOR_OTHER_RED, COLOR_BROWN, COLOR_ORANGE, COLOR_BLUE, COLOR_OTHER\n",
    "    \"\"\"\n",
    "    # load npz files\n",
    "    for file in os.listdir(train_folder):\n",
    "        if file.endswith(\".npz\"):\n",
    "            file_path = os.path.join(train_folder, file)\n",
    "            npz_file = np.load(file_path)\n",
    "            data_len = len(npz_file[class_name])\n",
    "            \n",
    "            # if contains class data\n",
    "            if(len(npz_file[class_name])):\n",
    "                data_dict[class_name] = np.append(data_dict[class_name], np.array(npz_file[class_name]), axis=0)\n",
    "                \n",
    "                # create one hot label\n",
    "                if(class_name=='COLOR_STOP_SIGN_RED'):\n",
    "                    label_dict[class_name] = np.append(label_dict[class_name], np.array([[1,0,0,0,0,0]]*data_len), axis=0)\n",
    "                elif(class_name=='COLOR_OTHER_RED'):\n",
    "                    label_dict[class_name] = np.append(label_dict[class_name], np.array([[0,1,0,0,0,0]]*data_len), axis=0)\n",
    "                elif(class_name=='COLOR_BROWN'):\n",
    "                    label_dict[class_name] = np.append(label_dict[class_name], np.array([[0,0,1,0,0,0]]*data_len), axis=0)\n",
    "                elif(class_name=='COLOR_ORANGE'):\n",
    "                    label_dict[class_name] = np.append(label_dict[class_name], np.array([[0,0,0,1,0,0]]*data_len), axis=0)\n",
    "                elif(class_name=='COLOR_BLUE'):\n",
    "                    label_dict[class_name] = np.append(label_dict[class_name], np.array([[0,0,0,0,1,0]]*data_len), axis=0)\n",
    "                else:\n",
    "                    label_dict[class_name] = np.append(label_dict[class_name], np.array([[0,0,0,0,0,1]]*data_len), axis=0)"
   ]
  },
  {
   "cell_type": "code",
   "execution_count": 37,
   "metadata": {},
   "outputs": [
    {
     "name": "stdout",
     "output_type": "stream",
     "text": [
      "(434792, 3)\n",
      "(434792, 6)\n"
     ]
    }
   ],
   "source": [
    "class_name = 'COLOR_STOP_SIGN_RED'\n",
    "read_data(class_name)\n",
    "print(data_dict[class_name].shape)\n",
    "print(label_dict[class_name].shape)"
   ]
  },
  {
   "cell_type": "code",
   "execution_count": null,
   "metadata": {},
   "outputs": [],
   "source": []
  }
 ],
 "metadata": {
  "kernelspec": {
   "display_name": "Python 3",
   "language": "python",
   "name": "python3"
  },
  "language_info": {
   "codemirror_mode": {
    "name": "ipython",
    "version": 3
   },
   "file_extension": ".py",
   "mimetype": "text/x-python",
   "name": "python",
   "nbconvert_exporter": "python",
   "pygments_lexer": "ipython3",
   "version": "3.7.4"
  }
 },
 "nbformat": 4,
 "nbformat_minor": 2
}
